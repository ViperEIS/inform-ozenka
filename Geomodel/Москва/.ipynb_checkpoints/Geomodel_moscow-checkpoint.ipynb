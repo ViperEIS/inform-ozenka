{
 "cells": [
  {
   "cell_type": "code",
   "execution_count": 2,
   "metadata": {},
   "outputs": [],
   "source": [
    "from bs4 import BeautifulSoup\n",
    "from geopy.geocoders import Nominatim\n",
    "import psycopg2\n",
    "import numpy as np\n",
    "import pandas as pd\n",
    "import time\n",
    "import re\n",
    "import requests\n",
    "from tqdm import tqdm_notebook"
   ]
  },
  {
   "cell_type": "code",
   "execution_count": 3,
   "metadata": {},
   "outputs": [],
   "source": [
    "from selenium import webdriver\n",
    "from selenium.common.exceptions import NoSuchElementException\n",
    "from selenium.webdriver.common.keys import Keys"
   ]
  },
  {
   "cell_type": "markdown",
   "metadata": {},
   "source": [
    "##### DB connection"
   ]
  },
  {
   "cell_type": "code",
   "execution_count": 97,
   "metadata": {},
   "outputs": [
    {
     "name": "stdout",
     "output_type": "stream",
     "text": [
      "Database opened successfully\n"
     ]
    }
   ],
   "source": [
    "con = psycopg2.connect(\n",
    "  database=\"postgres\", \n",
    "  user=\"ds\", \n",
    "  password=\"cxXl5o\", \n",
    "  host=\"192.168.1.44\", \n",
    "  port=\"5432\"\n",
    ")\n",
    "\n",
    "print(\"Database opened successfully\")"
   ]
  },
  {
   "cell_type": "markdown",
   "metadata": {},
   "source": [
    "##### Rollback (run if exception rises)"
   ]
  },
  {
   "cell_type": "code",
   "execution_count": 98,
   "metadata": {},
   "outputs": [],
   "source": [
    "curs = con.cursor()\n",
    "curs.execute(\"ROLLBACK\")\n",
    "con.commit()"
   ]
  },
  {
   "cell_type": "markdown",
   "metadata": {},
   "source": [
    "##### Getting adresses"
   ]
  },
  {
   "cell_type": "code",
   "execution_count": 99,
   "metadata": {
    "scrolled": true
   },
   "outputs": [],
   "source": [
    "cur = con.cursor()  \n",
    "cur.execute('''\n",
    "SELECT DISTINCT \"Точный_адрес\" FROM public.\"Resident\" WHERE \"Город\" = 'Москва'\n",
    "''')\n",
    "  \n",
    "rows = cur.fetchall()\n",
    "\n",
    "con.close()  "
   ]
  },
  {
   "cell_type": "markdown",
   "metadata": {},
   "source": [
    "##### DF from list of tuples"
   ]
  },
  {
   "cell_type": "code",
   "execution_count": 100,
   "metadata": {},
   "outputs": [
    {
     "data": {
      "text/plain": [
       "(10, 1)"
      ]
     },
     "execution_count": 100,
     "metadata": {},
     "output_type": "execute_result"
    }
   ],
   "source": [
    "df = pd.DataFrame(data=rows[:10], columns=['Adress_or_code',]).dropna()\n",
    "df.shape"
   ]
  },
  {
   "cell_type": "markdown",
   "metadata": {},
   "source": [
    "### Columns:\n",
    "\n",
    "##### Adress:\n",
    "adress (example: '1-й Кожуховский проезд, 19к1, Даниловский, Москва') - Property for sale,\n",
    "\n",
    "1 - School,\n",
    "\n",
    "2 - Park,\n",
    "\n",
    "3 - Polyclinics\n",
    "\n",
    "##### Longitude \n",
    "...\n",
    "\n",
    "##### Latitude\n",
    "...\n",
    "\n",
    "##### Region (areas where are situated clusters of buidings)\n",
    "1, 2, 3..."
   ]
  },
  {
   "cell_type": "markdown",
   "metadata": {},
   "source": [
    "##### Filling longitude and latitude (defs)"
   ]
  },
  {
   "cell_type": "code",
   "execution_count": 101,
   "metadata": {
    "scrolled": false
   },
   "outputs": [
    {
     "name": "stderr",
     "output_type": "stream",
     "text": [
      "C:\\Anaconda\\lib\\site-packages\\ipykernel_launcher.py:1: DeprecationWarning: Using Nominatim with the default \"geopy/1.21.0\" `user_agent` is strongly discouraged, as it violates Nominatim's ToS https://operations.osmfoundation.org/policies/nominatim/ and may possibly cause 403 and 429 HTTP errors. Please specify a custom `user_agent` with `Nominatim(user_agent=\"my-application\")` or by overriding the default `user_agent`: `geopy.geocoders.options.default_user_agent = \"my-application\"`. In geopy 2.0 this will become an exception.\n",
      "  \"\"\"Entry point for launching an IPython kernel.\n"
     ]
    }
   ],
   "source": [
    "nom = Nominatim()\n",
    "\n",
    "def geocode_nontype_longitude(ad):\n",
    "    try: \n",
    "        return nom.geocode(ad).longitude\n",
    "    except:\n",
    "        pass\n",
    "    \n",
    "def geocode_nontype_latitude(ad):\n",
    "    try: \n",
    "        return nom.geocode(ad).latitude\n",
    "    except:\n",
    "        pass\n",
    "    "
   ]
  },
  {
   "cell_type": "markdown",
   "metadata": {},
   "source": [
    "##### Filling longitude and latitude (property)"
   ]
  },
  {
   "cell_type": "code",
   "execution_count": 102,
   "metadata": {},
   "outputs": [],
   "source": [
    "df['Longitude'] = df['Adress_or_code'].apply(geocode_nontype_longitude)\n",
    "df['Latitude'] = df['Adress_or_code'].apply(geocode_nontype_latitude)\n",
    "\n",
    "df = df.dropna()"
   ]
  },
  {
   "cell_type": "code",
   "execution_count": 103,
   "metadata": {
    "scrolled": false
   },
   "outputs": [
    {
     "data": {
      "text/html": [
       "<div>\n",
       "<style scoped>\n",
       "    .dataframe tbody tr th:only-of-type {\n",
       "        vertical-align: middle;\n",
       "    }\n",
       "\n",
       "    .dataframe tbody tr th {\n",
       "        vertical-align: top;\n",
       "    }\n",
       "\n",
       "    .dataframe thead th {\n",
       "        text-align: right;\n",
       "    }\n",
       "</style>\n",
       "<table border=\"1\" class=\"dataframe\">\n",
       "  <thead>\n",
       "    <tr style=\"text-align: right;\">\n",
       "      <th></th>\n",
       "      <th>Adress_or_code</th>\n",
       "      <th>Longitude</th>\n",
       "      <th>Latitude</th>\n",
       "    </tr>\n",
       "  </thead>\n",
       "  <tbody>\n",
       "    <tr>\n",
       "      <td>0</td>\n",
       "      <td>12-я Новокузьминская улица, 2/8, Рязанский, Мо...</td>\n",
       "      <td>37.783279</td>\n",
       "      <td>55.716487</td>\n",
       "    </tr>\n",
       "    <tr>\n",
       "      <td>4</td>\n",
       "      <td>1-й Зачатьевский переулок, дом 5, Хамовники, М...</td>\n",
       "      <td>37.604655</td>\n",
       "      <td>55.739489</td>\n",
       "    </tr>\n",
       "    <tr>\n",
       "      <td>5</td>\n",
       "      <td>1-й Кожуховский проезд, 19к1, Даниловский, Москва</td>\n",
       "      <td>37.659138</td>\n",
       "      <td>55.704792</td>\n",
       "    </tr>\n",
       "  </tbody>\n",
       "</table>\n",
       "</div>"
      ],
      "text/plain": [
       "                                      Adress_or_code  Longitude   Latitude\n",
       "0  12-я Новокузьминская улица, 2/8, Рязанский, Мо...  37.783279  55.716487\n",
       "4  1-й Зачатьевский переулок, дом 5, Хамовники, М...  37.604655  55.739489\n",
       "5  1-й Кожуховский проезд, 19к1, Даниловский, Москва  37.659138  55.704792"
      ]
     },
     "execution_count": 103,
     "metadata": {},
     "output_type": "execute_result"
    }
   ],
   "source": [
    "df.head(20)"
   ]
  },
  {
   "cell_type": "markdown",
   "metadata": {},
   "source": [
    "##### Filling longitude and latitude (schools)"
   ]
  },
  {
   "cell_type": "code",
   "execution_count": 144,
   "metadata": {},
   "outputs": [],
   "source": [
    "df_schools = pd.read_csv('Schools.csv', delimiter=';')[['yuridich_adress']][:3]\n",
    "\n",
    "df_schools['Longitude'] = df_schools['yuridich_adress'].apply(geocode_nontype_longitude)\n",
    "df_schools['Latitude'] = df_schools['yuridich_adress'].apply(geocode_nontype_latitude)\n",
    "temp_array = np.empty(df_schools.shape[0])\n",
    "temp_array.fill(1)\n",
    "df_schools['Adress'] = temp_array\n",
    "\n",
    "df_schools = df_schools.dropna().drop(columns = 'yuridich_adress')"
   ]
  },
  {
   "cell_type": "code",
   "execution_count": 145,
   "metadata": {
    "scrolled": true
   },
   "outputs": [
    {
     "data": {
      "text/html": [
       "<div>\n",
       "<style scoped>\n",
       "    .dataframe tbody tr th:only-of-type {\n",
       "        vertical-align: middle;\n",
       "    }\n",
       "\n",
       "    .dataframe tbody tr th {\n",
       "        vertical-align: top;\n",
       "    }\n",
       "\n",
       "    .dataframe thead th {\n",
       "        text-align: right;\n",
       "    }\n",
       "</style>\n",
       "<table border=\"1\" class=\"dataframe\">\n",
       "  <thead>\n",
       "    <tr style=\"text-align: right;\">\n",
       "      <th></th>\n",
       "      <th>Longitude</th>\n",
       "      <th>Latitude</th>\n",
       "      <th>Adress</th>\n",
       "    </tr>\n",
       "  </thead>\n",
       "  <tbody>\n",
       "    <tr>\n",
       "      <td>2</td>\n",
       "      <td>37.535837</td>\n",
       "      <td>55.730864</td>\n",
       "      <td>1.0</td>\n",
       "    </tr>\n",
       "  </tbody>\n",
       "</table>\n",
       "</div>"
      ],
      "text/plain": [
       "   Longitude   Latitude  Adress\n",
       "2  37.535837  55.730864     1.0"
      ]
     },
     "execution_count": 145,
     "metadata": {},
     "output_type": "execute_result"
    }
   ],
   "source": [
    "df_schools.head(20)"
   ]
  },
  {
   "cell_type": "markdown",
   "metadata": {},
   "source": [
    "##### Filling longitude and latitude (parks)"
   ]
  },
  {
   "cell_type": "code",
   "execution_count": 152,
   "metadata": {},
   "outputs": [],
   "source": [
    "df_parks = pd.read_json('Parks.json')[['geoData']]\n",
    "\n",
    "df_parks['Longitude'] = df_parks['geoData'].apply(lambda ad: ad['coordinates'][0][0])\n",
    "df_parks['Latitude'] = df_parks['geoData'].apply(lambda ad: ad['coordinates'][0][1])\n",
    "temp_array = np.empty(df_parks.shape[0])\n",
    "temp_array.fill(2)\n",
    "df_parks['Adress'] = temp_array\n",
    "\n",
    "df_parks = df_parks.dropna().drop(columns = 'geoData')"
   ]
  },
  {
   "cell_type": "code",
   "execution_count": 153,
   "metadata": {},
   "outputs": [
    {
     "data": {
      "text/html": [
       "<div>\n",
       "<style scoped>\n",
       "    .dataframe tbody tr th:only-of-type {\n",
       "        vertical-align: middle;\n",
       "    }\n",
       "\n",
       "    .dataframe tbody tr th {\n",
       "        vertical-align: top;\n",
       "    }\n",
       "\n",
       "    .dataframe thead th {\n",
       "        text-align: right;\n",
       "    }\n",
       "</style>\n",
       "<table border=\"1\" class=\"dataframe\">\n",
       "  <thead>\n",
       "    <tr style=\"text-align: right;\">\n",
       "      <th></th>\n",
       "      <th>Longitude</th>\n",
       "      <th>Latitude</th>\n",
       "      <th>Adress</th>\n",
       "    </tr>\n",
       "  </thead>\n",
       "  <tbody>\n",
       "    <tr>\n",
       "      <td>0</td>\n",
       "      <td>37.536723</td>\n",
       "      <td>55.474198</td>\n",
       "      <td>2.0</td>\n",
       "    </tr>\n",
       "    <tr>\n",
       "      <td>1</td>\n",
       "      <td>37.242608</td>\n",
       "      <td>55.447989</td>\n",
       "      <td>2.0</td>\n",
       "    </tr>\n",
       "    <tr>\n",
       "      <td>2</td>\n",
       "      <td>37.375337</td>\n",
       "      <td>55.372366</td>\n",
       "      <td>2.0</td>\n",
       "    </tr>\n",
       "    <tr>\n",
       "      <td>3</td>\n",
       "      <td>37.270073</td>\n",
       "      <td>55.326167</td>\n",
       "      <td>2.0</td>\n",
       "    </tr>\n",
       "    <tr>\n",
       "      <td>4</td>\n",
       "      <td>37.327892</td>\n",
       "      <td>55.444903</td>\n",
       "      <td>2.0</td>\n",
       "    </tr>\n",
       "    <tr>\n",
       "      <td>5</td>\n",
       "      <td>37.510592</td>\n",
       "      <td>55.448994</td>\n",
       "      <td>2.0</td>\n",
       "    </tr>\n",
       "    <tr>\n",
       "      <td>6</td>\n",
       "      <td>37.348638</td>\n",
       "      <td>55.325664</td>\n",
       "      <td>2.0</td>\n",
       "    </tr>\n",
       "    <tr>\n",
       "      <td>7</td>\n",
       "      <td>37.275195</td>\n",
       "      <td>55.431199</td>\n",
       "      <td>2.0</td>\n",
       "    </tr>\n",
       "    <tr>\n",
       "      <td>8</td>\n",
       "      <td>37.485441</td>\n",
       "      <td>55.500569</td>\n",
       "      <td>2.0</td>\n",
       "    </tr>\n",
       "    <tr>\n",
       "      <td>9</td>\n",
       "      <td>37.403570</td>\n",
       "      <td>55.417608</td>\n",
       "      <td>2.0</td>\n",
       "    </tr>\n",
       "    <tr>\n",
       "      <td>10</td>\n",
       "      <td>37.182174</td>\n",
       "      <td>55.412745</td>\n",
       "      <td>2.0</td>\n",
       "    </tr>\n",
       "    <tr>\n",
       "      <td>11</td>\n",
       "      <td>37.510324</td>\n",
       "      <td>55.486003</td>\n",
       "      <td>2.0</td>\n",
       "    </tr>\n",
       "    <tr>\n",
       "      <td>12</td>\n",
       "      <td>37.502215</td>\n",
       "      <td>55.488211</td>\n",
       "      <td>2.0</td>\n",
       "    </tr>\n",
       "    <tr>\n",
       "      <td>13</td>\n",
       "      <td>37.180937</td>\n",
       "      <td>55.318960</td>\n",
       "      <td>2.0</td>\n",
       "    </tr>\n",
       "    <tr>\n",
       "      <td>14</td>\n",
       "      <td>37.073233</td>\n",
       "      <td>55.212950</td>\n",
       "      <td>2.0</td>\n",
       "    </tr>\n",
       "    <tr>\n",
       "      <td>15</td>\n",
       "      <td>37.345780</td>\n",
       "      <td>55.596962</td>\n",
       "      <td>2.0</td>\n",
       "    </tr>\n",
       "    <tr>\n",
       "      <td>16</td>\n",
       "      <td>37.231807</td>\n",
       "      <td>55.565309</td>\n",
       "      <td>2.0</td>\n",
       "    </tr>\n",
       "    <tr>\n",
       "      <td>17</td>\n",
       "      <td>37.208187</td>\n",
       "      <td>55.595728</td>\n",
       "      <td>2.0</td>\n",
       "    </tr>\n",
       "    <tr>\n",
       "      <td>18</td>\n",
       "      <td>37.107805</td>\n",
       "      <td>55.593596</td>\n",
       "      <td>2.0</td>\n",
       "    </tr>\n",
       "    <tr>\n",
       "      <td>19</td>\n",
       "      <td>37.472527</td>\n",
       "      <td>55.619531</td>\n",
       "      <td>2.0</td>\n",
       "    </tr>\n",
       "  </tbody>\n",
       "</table>\n",
       "</div>"
      ],
      "text/plain": [
       "    Longitude   Latitude  Adress\n",
       "0   37.536723  55.474198     2.0\n",
       "1   37.242608  55.447989     2.0\n",
       "2   37.375337  55.372366     2.0\n",
       "3   37.270073  55.326167     2.0\n",
       "4   37.327892  55.444903     2.0\n",
       "5   37.510592  55.448994     2.0\n",
       "6   37.348638  55.325664     2.0\n",
       "7   37.275195  55.431199     2.0\n",
       "8   37.485441  55.500569     2.0\n",
       "9   37.403570  55.417608     2.0\n",
       "10  37.182174  55.412745     2.0\n",
       "11  37.510324  55.486003     2.0\n",
       "12  37.502215  55.488211     2.0\n",
       "13  37.180937  55.318960     2.0\n",
       "14  37.073233  55.212950     2.0\n",
       "15  37.345780  55.596962     2.0\n",
       "16  37.231807  55.565309     2.0\n",
       "17  37.208187  55.595728     2.0\n",
       "18  37.107805  55.593596     2.0\n",
       "19  37.472527  55.619531     2.0"
      ]
     },
     "execution_count": 153,
     "metadata": {},
     "output_type": "execute_result"
    }
   ],
   "source": [
    "df_parks.head(20)"
   ]
  },
  {
   "cell_type": "markdown",
   "metadata": {},
   "source": [
    "##### Filling longitude and latitude (polyclinics)"
   ]
  },
  {
   "cell_type": "code",
   "execution_count": 154,
   "metadata": {},
   "outputs": [],
   "source": [
    "df_polyclinics = pd.read_csv('Polyclinics.csv', delimiter=';')[['geoData']]\n",
    "\n",
    "pattern = re.compile(r'[0-9]+.[0-9]+')\n",
    "\n",
    "df_polyclinics['Longitude'] = df_polyclinics['geoData'].apply(lambda ad: float(re.findall(pattern, ad)[0]))\n",
    "df_polyclinics['Latitude'] = df_polyclinics['geoData'].apply(lambda ad: float(re.findall(pattern, ad)[1]))\n",
    "temp_array = np.empty(df_polyclinics.shape[0])\n",
    "temp_array.fill(3)\n",
    "df_polyclinics['Adress'] = temp_array\n",
    "\n",
    "\n",
    "df_polyclinics = df_polyclinics.dropna().drop(columns = 'geoData')"
   ]
  },
  {
   "cell_type": "code",
   "execution_count": 155,
   "metadata": {},
   "outputs": [
    {
     "data": {
      "text/html": [
       "<div>\n",
       "<style scoped>\n",
       "    .dataframe tbody tr th:only-of-type {\n",
       "        vertical-align: middle;\n",
       "    }\n",
       "\n",
       "    .dataframe tbody tr th {\n",
       "        vertical-align: top;\n",
       "    }\n",
       "\n",
       "    .dataframe thead th {\n",
       "        text-align: right;\n",
       "    }\n",
       "</style>\n",
       "<table border=\"1\" class=\"dataframe\">\n",
       "  <thead>\n",
       "    <tr style=\"text-align: right;\">\n",
       "      <th></th>\n",
       "      <th>Longitude</th>\n",
       "      <th>Latitude</th>\n",
       "      <th>Adress</th>\n",
       "    </tr>\n",
       "  </thead>\n",
       "  <tbody>\n",
       "    <tr>\n",
       "      <td>0</td>\n",
       "      <td>37.536723</td>\n",
       "      <td>55.474198</td>\n",
       "      <td>3.0</td>\n",
       "    </tr>\n",
       "    <tr>\n",
       "      <td>1</td>\n",
       "      <td>37.242608</td>\n",
       "      <td>55.447989</td>\n",
       "      <td>3.0</td>\n",
       "    </tr>\n",
       "    <tr>\n",
       "      <td>2</td>\n",
       "      <td>37.375337</td>\n",
       "      <td>55.372366</td>\n",
       "      <td>3.0</td>\n",
       "    </tr>\n",
       "    <tr>\n",
       "      <td>3</td>\n",
       "      <td>37.270073</td>\n",
       "      <td>55.326167</td>\n",
       "      <td>3.0</td>\n",
       "    </tr>\n",
       "    <tr>\n",
       "      <td>4</td>\n",
       "      <td>37.327892</td>\n",
       "      <td>55.444903</td>\n",
       "      <td>3.0</td>\n",
       "    </tr>\n",
       "    <tr>\n",
       "      <td>5</td>\n",
       "      <td>37.510592</td>\n",
       "      <td>55.448994</td>\n",
       "      <td>3.0</td>\n",
       "    </tr>\n",
       "    <tr>\n",
       "      <td>6</td>\n",
       "      <td>37.348638</td>\n",
       "      <td>55.325664</td>\n",
       "      <td>3.0</td>\n",
       "    </tr>\n",
       "    <tr>\n",
       "      <td>7</td>\n",
       "      <td>37.275195</td>\n",
       "      <td>55.431199</td>\n",
       "      <td>3.0</td>\n",
       "    </tr>\n",
       "    <tr>\n",
       "      <td>8</td>\n",
       "      <td>37.485441</td>\n",
       "      <td>55.500569</td>\n",
       "      <td>3.0</td>\n",
       "    </tr>\n",
       "    <tr>\n",
       "      <td>9</td>\n",
       "      <td>37.403570</td>\n",
       "      <td>55.417608</td>\n",
       "      <td>3.0</td>\n",
       "    </tr>\n",
       "    <tr>\n",
       "      <td>10</td>\n",
       "      <td>37.182174</td>\n",
       "      <td>55.412745</td>\n",
       "      <td>3.0</td>\n",
       "    </tr>\n",
       "    <tr>\n",
       "      <td>11</td>\n",
       "      <td>37.510324</td>\n",
       "      <td>55.486003</td>\n",
       "      <td>3.0</td>\n",
       "    </tr>\n",
       "    <tr>\n",
       "      <td>12</td>\n",
       "      <td>37.502215</td>\n",
       "      <td>55.488211</td>\n",
       "      <td>3.0</td>\n",
       "    </tr>\n",
       "    <tr>\n",
       "      <td>13</td>\n",
       "      <td>37.180937</td>\n",
       "      <td>55.318960</td>\n",
       "      <td>3.0</td>\n",
       "    </tr>\n",
       "    <tr>\n",
       "      <td>14</td>\n",
       "      <td>37.073233</td>\n",
       "      <td>55.212950</td>\n",
       "      <td>3.0</td>\n",
       "    </tr>\n",
       "    <tr>\n",
       "      <td>15</td>\n",
       "      <td>37.345780</td>\n",
       "      <td>55.596962</td>\n",
       "      <td>3.0</td>\n",
       "    </tr>\n",
       "    <tr>\n",
       "      <td>16</td>\n",
       "      <td>37.231807</td>\n",
       "      <td>55.565309</td>\n",
       "      <td>3.0</td>\n",
       "    </tr>\n",
       "    <tr>\n",
       "      <td>17</td>\n",
       "      <td>37.208187</td>\n",
       "      <td>55.595728</td>\n",
       "      <td>3.0</td>\n",
       "    </tr>\n",
       "    <tr>\n",
       "      <td>18</td>\n",
       "      <td>37.107805</td>\n",
       "      <td>55.593596</td>\n",
       "      <td>3.0</td>\n",
       "    </tr>\n",
       "    <tr>\n",
       "      <td>19</td>\n",
       "      <td>37.472527</td>\n",
       "      <td>55.619531</td>\n",
       "      <td>3.0</td>\n",
       "    </tr>\n",
       "  </tbody>\n",
       "</table>\n",
       "</div>"
      ],
      "text/plain": [
       "    Longitude   Latitude  Adress\n",
       "0   37.536723  55.474198     3.0\n",
       "1   37.242608  55.447989     3.0\n",
       "2   37.375337  55.372366     3.0\n",
       "3   37.270073  55.326167     3.0\n",
       "4   37.327892  55.444903     3.0\n",
       "5   37.510592  55.448994     3.0\n",
       "6   37.348638  55.325664     3.0\n",
       "7   37.275195  55.431199     3.0\n",
       "8   37.485441  55.500569     3.0\n",
       "9   37.403570  55.417608     3.0\n",
       "10  37.182174  55.412745     3.0\n",
       "11  37.510324  55.486003     3.0\n",
       "12  37.502215  55.488211     3.0\n",
       "13  37.180937  55.318960     3.0\n",
       "14  37.073233  55.212950     3.0\n",
       "15  37.345780  55.596962     3.0\n",
       "16  37.231807  55.565309     3.0\n",
       "17  37.208187  55.595728     3.0\n",
       "18  37.107805  55.593596     3.0\n",
       "19  37.472527  55.619531     3.0"
      ]
     },
     "execution_count": 155,
     "metadata": {},
     "output_type": "execute_result"
    }
   ],
   "source": [
    "df_polyclinics.head(20)"
   ]
  },
  {
   "cell_type": "code",
   "execution_count": 156,
   "metadata": {},
   "outputs": [],
   "source": [
    "# pd.concat"
   ]
  },
  {
   "cell_type": "code",
   "execution_count": null,
   "metadata": {},
   "outputs": [],
   "source": []
  }
 ],
 "metadata": {
  "kernelspec": {
   "display_name": "Python 3",
   "language": "python",
   "name": "python3"
  },
  "language_info": {
   "codemirror_mode": {
    "name": "ipython",
    "version": 3
   },
   "file_extension": ".py",
   "mimetype": "text/x-python",
   "name": "python",
   "nbconvert_exporter": "python",
   "pygments_lexer": "ipython3",
   "version": "3.7.4"
  }
 },
 "nbformat": 4,
 "nbformat_minor": 4
}
