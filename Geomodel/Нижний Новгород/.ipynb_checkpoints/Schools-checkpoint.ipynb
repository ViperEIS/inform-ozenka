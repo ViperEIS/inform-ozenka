{
 "cells": [
  {
   "cell_type": "code",
   "execution_count": 3,
   "metadata": {
    "ExecuteTime": {
     "end_time": "2020-10-19T13:25:57.936018Z",
     "start_time": "2020-10-19T13:25:57.381321Z"
    }
   },
   "outputs": [],
   "source": [
    "import requests # для запросов html страниц\n",
    "from bs4 import BeautifulSoup # для работы со структурой html страниц\n",
    "import numpy as np\n",
    "import pandas as pd\n",
    "import time\n",
    "import re\n",
    "from tqdm import tqdm_notebook"
   ]
  },
  {
   "cell_type": "code",
   "execution_count": 108,
   "metadata": {
    "ExecuteTime": {
     "end_time": "2020-10-19T14:25:09.429505Z",
     "start_time": "2020-10-19T14:25:09.425509Z"
    }
   },
   "outputs": [],
   "source": [
    "adresses = list()\n",
    "titles = list()"
   ]
  },
  {
   "cell_type": "code",
   "execution_count": 70,
   "metadata": {
    "ExecuteTime": {
     "end_time": "2020-10-19T14:06:51.611171Z",
     "start_time": "2020-10-19T14:06:51.608171Z"
    }
   },
   "outputs": [],
   "source": [
    "urls = ['https://nnmama.ru/guide/education/nnschools/?page=1',\n",
    "       'https://nnmama.ru/guide/education/nnschools/?page=2',\n",
    "       'https://nnmama.ru/guide/education/nnschools/?page=3',\n",
    "       'https://nnmama.ru/guide/education/nnschools/?page=4',\n",
    "       'https://nnmama.ru/guide/education/nnschools/?page=5',\n",
    "       'https://nnmama.ru/guide/education/nnschools/?page=6',\n",
    "       'https://nnmama.ru/guide/education/nnschools/?page=7',\n",
    "       'https://nnmama.ru/guide/education/nnschools/?page=8',\n",
    "       'https://nnmama.ru/guide/education/nnschools/?page=9',\n",
    "       'https://nnmama.ru/guide/education/nnschools/?page=10']"
   ]
  },
  {
   "cell_type": "code",
   "execution_count": 109,
   "metadata": {
    "ExecuteTime": {
     "end_time": "2020-10-19T14:25:20.133755Z",
     "start_time": "2020-10-19T14:25:13.145052Z"
    }
   },
   "outputs": [],
   "source": [
    "for el in urls:\n",
    "    page = requests.get(el)\n",
    "    soup = BeautifulSoup(page.text, \"html.parser\")\n",
    "    for i in soup.find_all('div', class_= 'organization__field')[::2]:\n",
    "        if len(i) == 6:\n",
    "            adresses.append(i.get_text().split('\\n')[2:4])\n",
    "        else:\n",
    "            adresses.append(i.get_text().split('\\n')[2])\n",
    "    titles += [el.get_text() for el in soup.find_all('a', class_='organization__name')]"
   ]
  },
  {
   "cell_type": "code",
   "execution_count": null,
   "metadata": {},
   "outputs": [],
   "source": []
  }
 ],
 "metadata": {
  "kernelspec": {
   "display_name": "Python 3",
   "language": "python",
   "name": "python3"
  },
  "language_info": {
   "codemirror_mode": {
    "name": "ipython",
    "version": 3
   },
   "file_extension": ".py",
   "mimetype": "text/x-python",
   "name": "python",
   "nbconvert_exporter": "python",
   "pygments_lexer": "ipython3",
   "version": "3.8.6"
  }
 },
 "nbformat": 4,
 "nbformat_minor": 4
}
